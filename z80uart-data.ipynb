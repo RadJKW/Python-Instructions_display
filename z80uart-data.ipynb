{
 "cells": [
  {
   "cell_type": "markdown",
   "metadata": {},
   "source": [
    "# Coil Winder: Z80 UART\n"
   ]
  },
  {
   "cell_type": "markdown",
   "metadata": {},
   "source": [
    "## Overview\n",
    "- Launch Script\n",
    "  * test.py\n",
    "  * main.py\n",
    "- Modules / Controllers\n",
    "  * UART.py\n",
    "  * MQTT.py\n",
    "  * GPIO.py\n",
    "  * DATA_IMPORT.py\n",
    "  * LOGGING.py\n",
    "  * URL_GENERATOR.py\n",
    "    - IN: Message\n",
    "    - ACTION: pass msg through filters to determine url \n",
    "    - OUT: URL\n",
    "  * LOGGING.py\n",
    "- CHECKLIST\n",
    "  - [ ] Read incoming messages from z80\n",
    "  - [ ] Filter incoming messages (e.g. only update instructions display if instructions exist) \n",
    "  - [ ] Create a coil object for each coil number\n",
    "    - can / will have multiple coils for each coil number\n",
    "  - [ ] Update the MQTT broker with each message received\n",
    "  - [ ] Handle erros to prevent crashes\n",
    "  - [ ] Create a logging system\n",
    "    -  LOG errors for debugging / improvements\n",
    "  - [ ] Create test.py to allow for debugging on systems without a serial port\n",
    "    - ask the user to choose a message to send from a list of messages\n",
    "    - messages are stored in a database\n",
    "  - [ ] MQTT broker\n",
    "    - GET: config information from mqtt\n",
    "    - SEND: coil information to mqtt\n",
    "    - SEND: pi information to mqtt\n",
    "  - [ ] GPIO\n",
    "    - Maybe used for a relay that turns a signal light on / off\n"
   ]
  },
  {
   "cell_type": "markdown",
   "metadata": {},
   "source": [
    "## Order of operations\n",
    "1. **ON SCRIPT START:**\n",
    "- network connectivity test\n",
    "- uart serial coms check (if not, then prompt user of error) \n",
    "- get device hostname \n",
    "   * crosscheck with mqtt config to determine which division and assign to variable\n",
    "- Connect to MQTT broker"
   ]
  },
  {
   "cell_type": "markdown",
   "metadata": {},
   "source": [
    "## Z80 Message Format\n",
    "Codes: w/ INSTRUCTIONS:  \n",
    "  \n",
    "- DS - (DUCT STOP)\n",
    "- XP - (XTRA PAPER)\n",
    "- TT - (TOTOAL TURNS)\n",
    "- PX - (PAPER EXTENSION)\n",
    "- AD - (ANNULAR DUCT)\n",
    "- DE - (DATA ENTRY)\n",
    "- RS - (RUN SCREEN)\n",
    "- NC - (NEW COIL)\n",
    "- FC - (FINISH COIL)\n",
    "\n",
    "Ignore: no INSTRUCTIONS:\n",
    "- LE  - (LAYER END)\n",
    "- ALE - (AlMOST LAYER END)\n",
    "- TT  - (TOTAL TURNS)\n",
    "- ATT - (ALMOST TOTAL TURNS)\n",
    "- TS  - (TAP STOP)\n",
    "- ATS - (ALMOST TAP STOP)\n",
    "- TB  - (TAP BREAK)\n",
    "- ATB - (ALMOST TAP BREAK)\n",
    "  \n",
    "\n",
    "MESSAGE FORMATS: \n",
    "- **Length: 1**\n",
    "  * \"DS\" - (STOP CODE)\n",
    "- **Length: 3**\n",
    "  * _\"CODE, COIL NUMBER, DIVISION\"_\n",
    "  * **\"NC, 0000000000000, 1\"** \n",
    "    - (CODE, COIL NUMBER, DIVISION)\n",
    "- **Length: 4**\n",
    "  * _\"CODE, WINDING, MATERIAL, WIDTH\"_\n",
    "  * **\"NW,PA,PM,00.0000\"** \n",
    "    - _(PAPER WINDING w/ PAPER MATERIAL and WIDTH)_\n",
    "  * **\"NW,LV,SC,00.0000\"** \n",
    "    - _(LOW VOLTAGE WINDING w/ SHEET CONDUCTOR and WIDTH)_\n",
    "  * **\"NW,HV,WC,00.0000\"** \n",
    "    - _(HIGH VOLTAGE WINDING w/ WIRE CONDUCTOR and WIDTH)_\n",
    "  * **\"RS,LV,SC,08.2500\"**\n",
    "    - _(RUN SCREEN, WINDING, CONDUCTOR, WIDTH)_\n",
    "  * **\"DE,HV,WC,00.0000\"**\n",
    "    - _(DATA ENTRY, WINDING, CONDUCTOR, WIDTH)_\n",
    "\n"
   ]
  }
 ],
 "metadata": {
  "kernelspec": {
   "display_name": "Python 3.7.13 ('.venv': venv)",
   "language": "python",
   "name": "python3"
  },
  "language_info": {
   "name": "python",
   "version": "3.7.13"
  },
  "orig_nbformat": 4,
  "vscode": {
   "interpreter": {
    "hash": "34e468355a083bde8ee2116322337d59142091708c1c0cd53f68a02939b6fd77"
   }
  }
 },
 "nbformat": 4,
 "nbformat_minor": 2
}
